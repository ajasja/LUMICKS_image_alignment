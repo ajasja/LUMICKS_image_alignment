{
 "cells": [
  {
   "cell_type": "code",
   "execution_count": 3,
   "metadata": {},
   "outputs": [],
   "source": [
    "import os\n",
    "import datetime\n",
    "from pathlib import Path\n",
    "import glob\n",
    "\n",
    "folder = \"TIRF_IRM\"\n",
    "transform_matrix = \"transform_matrix.json\"\n",
    "\n",
    "timestamps = []\n",
    "tiff_filelist = glob.glob(f\"{folder}/*.tiff\")\n",
    "for file in tiff_filelist:\n",
    "    time = datetime.datetime.fromtimestamp(os.path.getmtime(file)).replace(\n",
    "        second=0, microsecond=0\n",
    "    )\n",
    "    if time not in timestamps:\n",
    "        timestamps.append(time)\n",
    "\n",
    "for timestamp in timestamps:\n",
    "    for file in tiff_filelist:\n",
    "        time = datetime.datetime.fromtimestamp(os.path.getmtime(file)).replace(\n",
    "            second=0, microsecond=0\n",
    "        )\n",
    "        if time == timestamp:\n",
    "            if \"WT\" in file:\n",
    "                wt_file = file\n",
    "            else:\n",
    "                irm_file = file\n",
    "\n",
    "    output_path = os.path.join(folder, Path(wt_file).stem + \"_output\")\n",
    "\n",
    "    !python image_aligner.py {wt_file} {irm_file} -m {transform_matrix} -o {output_path}"
   ]
  }
 ],
 "metadata": {
  "kernelspec": {
   "display_name": "ImageAligner",
   "language": "python",
   "name": "python3"
  },
  "language_info": {
   "codemirror_mode": {
    "name": "ipython",
    "version": 3
   },
   "file_extension": ".py",
   "mimetype": "text/x-python",
   "name": "python",
   "nbconvert_exporter": "python",
   "pygments_lexer": "ipython3",
   "version": "3.10.6"
  }
 },
 "nbformat": 4,
 "nbformat_minor": 2
}
