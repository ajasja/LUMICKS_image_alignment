{
 "cells": [
  {
   "cell_type": "code",
   "execution_count": null,
   "metadata": {},
   "outputs": [
    {
     "name": "stdout",
     "output_type": "stream",
     "text": [
      "aligned_output\n",
      "2023-12-07 14:21:11\n",
      "2023-12-07 14:22:20\n",
      "2023-12-07 14:21:03\n",
      "2023-12-07 14:22:15\n",
      "2023-12-12 13:49:20\n",
      "2023-12-12 13:50:40\n",
      "2023-12-12 13:49:20\n",
      "2023-12-12 13:50:41\n",
      "2023-12-07 14:21:03\n",
      "2023-12-07 14:21:11\n",
      "2023-12-07 14:22:15\n",
      "2023-12-07 14:22:20\n",
      "2023-12-12 13:49:20\n",
      "2023-12-12 13:49:20\n",
      "2023-12-12 13:50:40\n",
      "python image_aligner.py \"C:\\Users\\feder\\OneDrive\\Documents\\Slovenija\\Kemijski_Institut\\Code\\Image Alignment\\LUMICKS_image_alignment\\TIRF IRM\\20231212-134920_WT_B1.tiff\" \"C:\\Users\\feder\\OneDrive\\Documents\\Slovenija\\Kemijski_Institut\\Code\\Image Alignment\\LUMICKS_image_alignment\\TIRF IRM\\20231212-134007_IRM_B1.tiff\" -m \"transform_matrix.json\" -o aligned_output\n",
      "2023-12-12 13:50:41\n"
     ]
    },
    {
     "data": {
      "text/plain": [
       "' for file in tiff_filelist:\\n    time = datetime.datetime.fromtimestamp(os.path.getmtime(file)).replace(\\n        second=0, microsecond=0\\n    )\\n    if time not in timestamps:\\n        timestamps.append(time)\\n\\nfor timestamp in timestamps:\\n    for file in tiff_filelist:\\n        time = datetime.datetime.fromtimestamp(os.path.getmtime(file)).replace(\\n            second=0, microsecond=0\\n        )\\n        if time == timestamp:\\n            if \"WT\" in file:\\n                wt_file = file\\n            else:\\n                irm_file = file \\n\\n    output_path = os.path.join(folder, Path(wt_file).stem + \"_output\")\\n\\n    print(f\"!python image_aligner.py {wt_file} {irm_file} -m \\'{transform_matrix}\\' -o {output_path}\") '"
      ]
     },
     "execution_count": 8,
     "metadata": {},
     "output_type": "execute_result"
    }
   ],
   "source": [
    "import os\n",
    "import datetime\n",
    "from pathlib import Path\n",
    "import glob\n",
    "import itertools\n",
    "\n",
    "folder = r\"C:\\Users\\feder\\OneDrive\\Documents\\Slovenija\\Kemijski_Institut\\Code\\Image Alignment\\LUMICKS_image_alignment\\TIRF IRM\"\n",
    "transform_matrix = r\"transform_matrix.json\"\n",
    "timestamps = []\n",
    "tiff_filelist = glob.glob(f\"{folder}/*.tiff\")\n",
    "# output_path = os.path.join(folder, \"aligned_output\")\n",
    "output_path = \"aligned_output\"\n",
    "print(output_path)\n",
    "\n",
    "def roundTime(dt=None, roundTo=60):\n",
    "   \"\"\"Round a datetime object to any time lapse in seconds\n",
    "   dt : datetime.datetime object, default now.\n",
    "   roundTo : Closest number of seconds to round to, default 1 minute.\n",
    "   Author: Thierry Husson 2012 - Use it as you want but don't blame me.\n",
    "   \"\"\"\n",
    "   if dt == None : dt = datetime.datetime.now()\n",
    "   seconds = (dt.replace(tzinfo=None) - dt.min).seconds\n",
    "   rounding = (seconds+roundTo/2) // roundTo * roundTo\n",
    "   return dt + datetime.timedelta(0,rounding-seconds,-dt.microsecond)\n",
    "\n",
    "def get_timestamp(filename):\n",
    "    round_to_seconds=30\n",
    "    time = roundTime(datetime.datetime.fromtimestamp(os.path.getmtime(filename)),round_to_seconds)\n",
    "    print(time)\n",
    "    return time\n",
    "\n",
    "\n",
    "tiff_filelist = sorted(tiff_filelist, key=get_timestamp)\n",
    "wt_irm = itertools.groupby(tiff_filelist, get_timestamp)\n",
    "\n",
    "for key, group in wt_irm:\n",
    "    group = list(group)\n",
    "    if len(group) == 2:\n",
    "        if \"_IRM\" in group[0]:\n",
    "            irm_file = group[0]\n",
    "            wt_file = group[1]\n",
    "        else:\n",
    "            irm_file = group[1]\n",
    "            wt_file = group[0]\n",
    "        assert \"_IRM\" in irm_file, \"no IRM file\"\n",
    "        assert \"_WT\" in wt_file, \"no WT file\"\n",
    "        cmd_string = f'python image_aligner.py \"{wt_file}\" \"{irm_file}\" -m \"{transform_matrix}\" -o {output_path}'\n",
    "        print(cmd_string)\n",
    "        os.system(cmd_string)\n",
    "    else:\n",
    "        if len(group) > 2:\n",
    "            raise f\"{len(group)} files were found in the same group\"\n",
    "\n",
    "\n",
    "\"\"\" for file in tiff_filelist:\n",
    "    time = datetime.datetime.fromtimestamp(os.path.getmtime(file)).replace(\n",
    "        second=0, microsecond=0\n",
    "    )\n",
    "    if time not in timestamps:\n",
    "        timestamps.append(time)\n",
    "\n",
    "for timestamp in timestamps:\n",
    "    for file in tiff_filelist:\n",
    "        time = datetime.datetime.fromtimestamp(os.path.getmtime(file)).replace(\n",
    "            second=0, microsecond=0\n",
    "        )\n",
    "        if time == timestamp:\n",
    "            if \"WT\" in file:\n",
    "                wt_file = file\n",
    "            else:\n",
    "                irm_file = file \n",
    "\n",
    "    output_path = os.path.join(folder, Path(wt_file).stem + \"_output\")\n",
    "\n",
    "    print(f\"!python image_aligner.py {wt_file} {irm_file} -m '{transform_matrix}' -o {output_path}\") \"\"\""
   ]
  },
  {
   "cell_type": "code",
   "execution_count": 3,
   "metadata": {},
   "outputs": [
    {
     "name": "stdout",
     "output_type": "stream",
     "text": [
      "usage: image_aligner.py [-h] [-o OUTPUT_DIRECTORY] [-m TRANSFORM_MATRIX]\n",
      "                        [-f FIT_METHOD] [-b BOX_SIZE] [-g MIN_GRADIENT]\n",
      "                        [-e MAX_POS_ERROR] [-p MAX_PHOTONS]\n",
      "                        [-d DELETE_TEMP_FILES]\n",
      "                        wt_file irm_file\n",
      "\n",
      "Scripts to align various channels based on reference beads.\n",
      "\n",
      "positional arguments:\n",
      "  wt_file               WT tif file\n",
      "  irm_file              IRM tif file\n",
      "\n",
      "options:\n",
      "  -h, --help            show this help message and exit\n",
      "  -o OUTPUT_DIRECTORY, --output-directory OUTPUT_DIRECTORY\n",
      "                        Output directory. Default=output/\n",
      "  -m TRANSFORM_MATRIX, --transform-matrix TRANSFORM_MATRIX\n",
      "                        Previously calculated matrix in .json format\n",
      "  -f FIT_METHOD, --fit-method FIT_METHOD\n",
      "                        Fit method for picasso. Default=lq\n",
      "  -b BOX_SIZE, --box-size BOX_SIZE\n",
      "                        Box sized for picasso. Default=21\n",
      "  -g MIN_GRADIENT, --min-gradient MIN_GRADIENT\n",
      "                        Minimum gradient for picasso. Default=70000\n",
      "  -e MAX_POS_ERROR, --max-pos-error MAX_POS_ERROR\n",
      "                        Maximum standard dev accepted for x and y position of\n",
      "                        spots. Default=3.5\n",
      "  -p MAX_PHOTONS, --max_photons MAX_PHOTONS\n",
      "                        Maximum number of photons for spots.\n",
      "  -d DELETE_TEMP_FILES, --delete-temp-files DELETE_TEMP_FILES\n",
      "                        Delete temporary files made by picasso\n"
     ]
    }
   ],
   "source": [
    "!python image_aligner.py --help"
   ]
  },
  {
   "cell_type": "code",
   "execution_count": null,
   "metadata": {},
   "outputs": [],
   "source": []
  }
 ],
 "metadata": {
  "kernelspec": {
   "display_name": "ImageAligner",
   "language": "python",
   "name": "python3"
  },
  "language_info": {
   "codemirror_mode": {
    "name": "ipython",
    "version": 3
   },
   "file_extension": ".py",
   "mimetype": "text/x-python",
   "name": "python",
   "nbconvert_exporter": "python",
   "pygments_lexer": "ipython3",
   "version": "3.10.6"
  }
 },
 "nbformat": 4,
 "nbformat_minor": 2
}
