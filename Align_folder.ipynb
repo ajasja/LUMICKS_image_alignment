{
 "cells": [
  {
   "cell_type": "code",
   "execution_count": 16,
   "metadata": {},
   "outputs": [
    {
     "name": "stdout",
     "output_type": "stream",
     "text": [
      "TIRF_IRM/20231207-142025_WT_B1_output/20231207-135342_IRM_B1.tiff\n",
      "TIRF_IRM/20231207-142025_WT_B1_output/20231207-142025_WT_B1.tiff\n",
      "[0, 0, 2048, 682]\n",
      "[0, 0, 728, 544]\n",
      "TIRF_IRM/20231207-142103_WT_B1_output/20231207-135355_IRM_B1.tiff\n",
      "TIRF_IRM/20231207-142103_WT_B1_output/20231207-142103_WT_B1.tiff\n",
      "[0, 0, 2048, 682]\n",
      "[0, 0, 728, 544]\n",
      "TIRF_IRM/20231207-142215_WT_B1_output/20231207-135418_IRM_B1.tiff\n",
      "TIRF_IRM/20231207-142215_WT_B1_output/20231207-142215_WT_B1.tiff\n",
      "[0, 0, 2048, 682]\n",
      "[0, 0, 728, 544]\n",
      "TIRF_IRM/20231212-134920_WT_B1_output/20231212-134007_IRM_B1.tiff\n",
      "TIRF_IRM/20231212-134920_WT_B1_output/20231212-134920_WT_B1.tiff\n",
      "[0, 0, 2048, 682]\n",
      "[0, 0, 728, 544]\n",
      "TIRF_IRM/20231212-135041_WT_output/20231212-134034_IRM.tiff\n",
      "TIRF_IRM/20231212-135041_WT_output/20231212-135041_WT.tiff\n",
      "[0, 0, 2048, 682]\n",
      "[0, 0, 728, 544]\n"
     ]
    }
   ],
   "source": [
    "import os\n",
    "import datetime\n",
    "from pathlib import Path\n",
    "\n",
    "folder=\"TIRF_IRM/\" #remember to include the slash\n",
    "transform_matrix=\"transform_matrix.json\"\n",
    "\n",
    "timestamps=[]\n",
    "for file in os.listdir(folder):\n",
    "    time=datetime.datetime.fromtimestamp(os.path.getmtime(folder+\"/\"+file)).replace(second=0, microsecond=0)\n",
    "    if time not in timestamps:\n",
    "        timestamps.append(time)\n",
    "\n",
    "for timestamp in timestamps:\n",
    "    for file in os.listdir(folder):\n",
    "        time=datetime.datetime.fromtimestamp(os.path.getmtime(folder+\"/\"+file)).replace(second=0, microsecond=0)\n",
    "        if time==timestamp:\n",
    "            if \"WT\" in file:\n",
    "                wt_file=file\n",
    "            else:\n",
    "                irm_file=file\n",
    "    output_folder=Path(wt_file).stem\n",
    "    !python image_aligner.py {folder}{wt_file} {folder}{irm_file} -m {transform_matrix} -o {folder}{output_folder}_output\n",
    "\n",
    "\n",
    "\n"
   ]
  }
 ],
 "metadata": {
  "kernelspec": {
   "display_name": "ImageAligner",
   "language": "python",
   "name": "python3"
  },
  "language_info": {
   "codemirror_mode": {
    "name": "ipython",
    "version": 3
   },
   "file_extension": ".py",
   "mimetype": "text/x-python",
   "name": "python",
   "nbconvert_exporter": "python",
   "pygments_lexer": "ipython3",
   "version": "3.10.6"
  }
 },
 "nbformat": 4,
 "nbformat_minor": 2
}
